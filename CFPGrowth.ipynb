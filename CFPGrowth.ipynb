{
  "nbformat": 4,
  "nbformat_minor": 0,
  "metadata": {
    "colab": {
      "provenance": [],
      "include_colab_link": true
    },
    "kernelspec": {
      "name": "python3",
      "display_name": "Python 3"
    },
    "language_info": {
      "name": "python"
    }
  },
  "cells": [
    {
      "cell_type": "markdown",
      "metadata": {
        "id": "view-in-github",
        "colab_type": "text"
      },
      "source": [
        "<a href=\"https://colab.research.google.com/github/BaptistDias123/BavtisDemo/blob/main/CFPGrowth.ipynb\" target=\"_parent\"><img src=\"https://colab.research.google.com/assets/colab-badge.svg\" alt=\"Open In Colab\"/></a>"
      ]
    },
    {
      "cell_type": "code",
      "source": [
        "!pip install -U pami"
      ],
      "metadata": {
        "colab": {
          "base_uri": "https://localhost:8080/"
        },
        "id": "JIpQR7kqWfJ8",
        "outputId": "092c998a-f9e1-42ae-fcb0-1e65b6145165"
      },
      "execution_count": null,
      "outputs": [
        {
          "output_type": "stream",
          "name": "stdout",
          "text": [
            "Collecting pami\n",
            "  Downloading pami-2024.7.2-py3-none-any.whl (1.1 MB)\n",
            "\u001b[2K     \u001b[90m━━━━━━━━━━━━━━━━━━━━━━━━━━━━━━━━━━━━━━━━\u001b[0m \u001b[32m1.1/1.1 MB\u001b[0m \u001b[31m10.9 MB/s\u001b[0m eta \u001b[36m0:00:00\u001b[0m\n",
            "\u001b[?25hRequirement already satisfied: psutil in /usr/local/lib/python3.10/dist-packages (from pami) (5.9.5)\n",
            "Requirement already satisfied: pandas in /usr/local/lib/python3.10/dist-packages (from pami) (2.0.3)\n",
            "Requirement already satisfied: plotly in /usr/local/lib/python3.10/dist-packages (from pami) (5.15.0)\n",
            "Requirement already satisfied: matplotlib in /usr/local/lib/python3.10/dist-packages (from pami) (3.7.1)\n",
            "Collecting resource (from pami)\n",
            "  Downloading Resource-0.2.1-py2.py3-none-any.whl (25 kB)\n",
            "Collecting validators (from pami)\n",
            "  Downloading validators-0.31.0-py3-none-any.whl (42 kB)\n",
            "\u001b[2K     \u001b[90m━━━━━━━━━━━━━━━━━━━━━━━━━━━━━━━━━━━━━━━━\u001b[0m \u001b[32m42.5/42.5 kB\u001b[0m \u001b[31m4.2 MB/s\u001b[0m eta \u001b[36m0:00:00\u001b[0m\n",
            "\u001b[?25hRequirement already satisfied: urllib3 in /usr/local/lib/python3.10/dist-packages (from pami) (2.0.7)\n",
            "Requirement already satisfied: Pillow in /usr/local/lib/python3.10/dist-packages (from pami) (9.4.0)\n",
            "Requirement already satisfied: numpy in /usr/local/lib/python3.10/dist-packages (from pami) (1.25.2)\n",
            "Requirement already satisfied: sphinx in /usr/local/lib/python3.10/dist-packages (from pami) (5.0.2)\n",
            "Collecting sphinx-rtd-theme (from pami)\n",
            "  Downloading sphinx_rtd_theme-2.0.0-py2.py3-none-any.whl (2.8 MB)\n",
            "\u001b[2K     \u001b[90m━━━━━━━━━━━━━━━━━━━━━━━━━━━━━━━━━━━━━━━━\u001b[0m \u001b[32m2.8/2.8 MB\u001b[0m \u001b[31m55.5 MB/s\u001b[0m eta \u001b[36m0:00:00\u001b[0m\n",
            "\u001b[?25hCollecting discord.py (from pami)\n",
            "  Downloading discord.py-2.4.0-py3-none-any.whl (1.1 MB)\n",
            "\u001b[2K     \u001b[90m━━━━━━━━━━━━━━━━━━━━━━━━━━━━━━━━━━━━━━━━\u001b[0m \u001b[32m1.1/1.1 MB\u001b[0m \u001b[31m43.3 MB/s\u001b[0m eta \u001b[36m0:00:00\u001b[0m\n",
            "\u001b[?25hRequirement already satisfied: networkx in /usr/local/lib/python3.10/dist-packages (from pami) (3.3)\n",
            "Collecting deprecated (from pami)\n",
            "  Downloading Deprecated-1.2.14-py2.py3-none-any.whl (9.6 kB)\n",
            "Requirement already satisfied: wrapt<2,>=1.10 in /usr/local/lib/python3.10/dist-packages (from deprecated->pami) (1.14.1)\n",
            "Requirement already satisfied: aiohttp<4,>=3.7.4 in /usr/local/lib/python3.10/dist-packages (from discord.py->pami) (3.9.5)\n",
            "Requirement already satisfied: contourpy>=1.0.1 in /usr/local/lib/python3.10/dist-packages (from matplotlib->pami) (1.2.1)\n",
            "Requirement already satisfied: cycler>=0.10 in /usr/local/lib/python3.10/dist-packages (from matplotlib->pami) (0.12.1)\n",
            "Requirement already satisfied: fonttools>=4.22.0 in /usr/local/lib/python3.10/dist-packages (from matplotlib->pami) (4.53.0)\n",
            "Requirement already satisfied: kiwisolver>=1.0.1 in /usr/local/lib/python3.10/dist-packages (from matplotlib->pami) (1.4.5)\n",
            "Requirement already satisfied: packaging>=20.0 in /usr/local/lib/python3.10/dist-packages (from matplotlib->pami) (24.1)\n",
            "Requirement already satisfied: pyparsing>=2.3.1 in /usr/local/lib/python3.10/dist-packages (from matplotlib->pami) (3.1.2)\n",
            "Requirement already satisfied: python-dateutil>=2.7 in /usr/local/lib/python3.10/dist-packages (from matplotlib->pami) (2.8.2)\n",
            "Requirement already satisfied: pytz>=2020.1 in /usr/local/lib/python3.10/dist-packages (from pandas->pami) (2023.4)\n",
            "Requirement already satisfied: tzdata>=2022.1 in /usr/local/lib/python3.10/dist-packages (from pandas->pami) (2024.1)\n",
            "Requirement already satisfied: tenacity>=6.2.0 in /usr/local/lib/python3.10/dist-packages (from plotly->pami) (8.4.2)\n",
            "Collecting JsonForm>=0.0.2 (from resource->pami)\n",
            "  Downloading JsonForm-0.0.2.tar.gz (2.4 kB)\n",
            "  Preparing metadata (setup.py) ... \u001b[?25l\u001b[?25hdone\n",
            "Collecting JsonSir>=0.0.2 (from resource->pami)\n",
            "  Downloading JsonSir-0.0.2.tar.gz (2.2 kB)\n",
            "  Preparing metadata (setup.py) ... \u001b[?25l\u001b[?25hdone\n",
            "Collecting python-easyconfig>=0.1.0 (from resource->pami)\n",
            "  Downloading Python_EasyConfig-0.1.7-py2.py3-none-any.whl (5.4 kB)\n",
            "Requirement already satisfied: sphinxcontrib-applehelp in /usr/local/lib/python3.10/dist-packages (from sphinx->pami) (1.0.8)\n",
            "Requirement already satisfied: sphinxcontrib-devhelp in /usr/local/lib/python3.10/dist-packages (from sphinx->pami) (1.0.6)\n",
            "Requirement already satisfied: sphinxcontrib-jsmath in /usr/local/lib/python3.10/dist-packages (from sphinx->pami) (1.0.1)\n",
            "Requirement already satisfied: sphinxcontrib-htmlhelp>=2.0.0 in /usr/local/lib/python3.10/dist-packages (from sphinx->pami) (2.0.5)\n",
            "Requirement already satisfied: sphinxcontrib-serializinghtml>=1.1.5 in /usr/local/lib/python3.10/dist-packages (from sphinx->pami) (1.1.10)\n",
            "Requirement already satisfied: sphinxcontrib-qthelp in /usr/local/lib/python3.10/dist-packages (from sphinx->pami) (1.0.7)\n",
            "Requirement already satisfied: Jinja2>=2.3 in /usr/local/lib/python3.10/dist-packages (from sphinx->pami) (3.1.4)\n",
            "Requirement already satisfied: Pygments>=2.0 in /usr/local/lib/python3.10/dist-packages (from sphinx->pami) (2.16.1)\n",
            "Requirement already satisfied: docutils<0.19,>=0.14 in /usr/local/lib/python3.10/dist-packages (from sphinx->pami) (0.18.1)\n",
            "Requirement already satisfied: snowballstemmer>=1.1 in /usr/local/lib/python3.10/dist-packages (from sphinx->pami) (2.2.0)\n",
            "Requirement already satisfied: babel>=1.3 in /usr/local/lib/python3.10/dist-packages (from sphinx->pami) (2.15.0)\n",
            "Requirement already satisfied: alabaster<0.8,>=0.7 in /usr/local/lib/python3.10/dist-packages (from sphinx->pami) (0.7.16)\n",
            "Requirement already satisfied: imagesize in /usr/local/lib/python3.10/dist-packages (from sphinx->pami) (1.4.1)\n",
            "Requirement already satisfied: requests>=2.5.0 in /usr/local/lib/python3.10/dist-packages (from sphinx->pami) (2.31.0)\n",
            "Collecting sphinxcontrib-jquery<5,>=4 (from sphinx-rtd-theme->pami)\n",
            "  Downloading sphinxcontrib_jquery-4.1-py2.py3-none-any.whl (121 kB)\n",
            "\u001b[2K     \u001b[90m━━━━━━━━━━━━━━━━━━━━━━━━━━━━━━━━━━━━━━━━\u001b[0m \u001b[32m121.1/121.1 kB\u001b[0m \u001b[31m14.7 MB/s\u001b[0m eta \u001b[36m0:00:00\u001b[0m\n",
            "\u001b[?25hRequirement already satisfied: aiosignal>=1.1.2 in /usr/local/lib/python3.10/dist-packages (from aiohttp<4,>=3.7.4->discord.py->pami) (1.3.1)\n",
            "Requirement already satisfied: attrs>=17.3.0 in /usr/local/lib/python3.10/dist-packages (from aiohttp<4,>=3.7.4->discord.py->pami) (23.2.0)\n",
            "Requirement already satisfied: frozenlist>=1.1.1 in /usr/local/lib/python3.10/dist-packages (from aiohttp<4,>=3.7.4->discord.py->pami) (1.4.1)\n",
            "Requirement already satisfied: multidict<7.0,>=4.5 in /usr/local/lib/python3.10/dist-packages (from aiohttp<4,>=3.7.4->discord.py->pami) (6.0.5)\n",
            "Requirement already satisfied: yarl<2.0,>=1.0 in /usr/local/lib/python3.10/dist-packages (from aiohttp<4,>=3.7.4->discord.py->pami) (1.9.4)\n",
            "Requirement already satisfied: async-timeout<5.0,>=4.0 in /usr/local/lib/python3.10/dist-packages (from aiohttp<4,>=3.7.4->discord.py->pami) (4.0.3)\n",
            "Requirement already satisfied: MarkupSafe>=2.0 in /usr/local/lib/python3.10/dist-packages (from Jinja2>=2.3->sphinx->pami) (2.1.5)\n",
            "Requirement already satisfied: jsonschema in /usr/local/lib/python3.10/dist-packages (from JsonForm>=0.0.2->resource->pami) (4.19.2)\n",
            "Requirement already satisfied: six>=1.5 in /usr/local/lib/python3.10/dist-packages (from python-dateutil>=2.7->matplotlib->pami) (1.16.0)\n",
            "Requirement already satisfied: PyYAML in /usr/local/lib/python3.10/dist-packages (from python-easyconfig>=0.1.0->resource->pami) (6.0.1)\n",
            "Requirement already satisfied: charset-normalizer<4,>=2 in /usr/local/lib/python3.10/dist-packages (from requests>=2.5.0->sphinx->pami) (3.3.2)\n",
            "Requirement already satisfied: idna<4,>=2.5 in /usr/local/lib/python3.10/dist-packages (from requests>=2.5.0->sphinx->pami) (3.7)\n",
            "Requirement already satisfied: certifi>=2017.4.17 in /usr/local/lib/python3.10/dist-packages (from requests>=2.5.0->sphinx->pami) (2024.6.2)\n",
            "Requirement already satisfied: jsonschema-specifications>=2023.03.6 in /usr/local/lib/python3.10/dist-packages (from jsonschema->JsonForm>=0.0.2->resource->pami) (2023.12.1)\n",
            "Requirement already satisfied: referencing>=0.28.4 in /usr/local/lib/python3.10/dist-packages (from jsonschema->JsonForm>=0.0.2->resource->pami) (0.35.1)\n",
            "Requirement already satisfied: rpds-py>=0.7.1 in /usr/local/lib/python3.10/dist-packages (from jsonschema->JsonForm>=0.0.2->resource->pami) (0.18.1)\n",
            "Building wheels for collected packages: JsonForm, JsonSir\n",
            "  Building wheel for JsonForm (setup.py) ... \u001b[?25l\u001b[?25hdone\n",
            "  Created wheel for JsonForm: filename=JsonForm-0.0.2-py3-none-any.whl size=3314 sha256=d15e651639a3a59bffb0242048c288eec8d46783081396d2920d4ad0950fb692\n",
            "  Stored in directory: /root/.cache/pip/wheels/b6/e5/87/11026246d3bd4ad67c0615682d2d6748bbd9a40ac0490882bd\n",
            "  Building wheel for JsonSir (setup.py) ... \u001b[?25l\u001b[?25hdone\n",
            "  Created wheel for JsonSir: filename=JsonSir-0.0.2-py3-none-any.whl size=4752 sha256=43ee670079565e2326926a773db109e1c37c750a0a80633db0d144426c441458\n",
            "  Stored in directory: /root/.cache/pip/wheels/1d/4c/d3/4d9757425983b43eb709be1043d82cd03fb863ce5f56f117e6\n",
            "Successfully built JsonForm JsonSir\n",
            "Installing collected packages: JsonSir, validators, python-easyconfig, deprecated, sphinxcontrib-jquery, discord.py, sphinx-rtd-theme, JsonForm, resource, pami\n",
            "Successfully installed JsonForm-0.0.2 JsonSir-0.0.2 deprecated-1.2.14 discord.py-2.4.0 pami-2024.7.2 python-easyconfig-0.1.7 resource-0.2.1 sphinx-rtd-theme-2.0.0 sphinxcontrib-jquery-4.1 validators-0.31.0\n"
          ]
        }
      ]
    },
    {
      "cell_type": "markdown",
      "source": [
        "#Test Cases for T10I4D100K Dataset"
      ],
      "metadata": {
        "id": "cLfV1dPzWj18"
      }
    },
    {
      "cell_type": "code",
      "source": [
        "from PAMI.extras.calculateMISValues import usingBeta as ub\n",
        "inputFile = \"Transactional_T10I4D100K.csv\"\n",
        "beta = 0.8\n",
        "LS = 2000\n",
        "sep = \"\\t\"\n",
        "output = \"MIS_T10.txt\"\n",
        "cd = ub.usingBeta(inputFile, beta, LS, sep)\n",
        "cd.calculateMIS()\n",
        "cd.save(output)"
      ],
      "metadata": {
        "id": "THskzC5Dn3R9"
      },
      "execution_count": null,
      "outputs": []
    },
    {
      "cell_type": "markdown",
      "source": [
        "##Test case 1 for T10I4D100K Dataset"
      ],
      "metadata": {
        "id": "hLgApfC4W1Cn"
      }
    },
    {
      "cell_type": "code",
      "source": [
        "!wget https://u-aizu.ac.jp/~udayrage/datasets/transactionalDatabases/Transactional_T10I4D100K.csv"
      ],
      "metadata": {
        "colab": {
          "base_uri": "https://localhost:8080/"
        },
        "id": "FdPLiZkTnqAD",
        "outputId": "d96d3e85-3861-4564-9bff-9e4a62370e37"
      },
      "execution_count": null,
      "outputs": [
        {
          "output_type": "stream",
          "name": "stdout",
          "text": [
            "--2024-07-09 18:34:38--  https://u-aizu.ac.jp/~udayrage/datasets/transactionalDatabases/Transactional_T10I4D100K.csv\n",
            "Resolving u-aizu.ac.jp (u-aizu.ac.jp)... 150.31.244.160, 150.95.161.176\n",
            "Connecting to u-aizu.ac.jp (u-aizu.ac.jp)|150.31.244.160|:443... connected.\n",
            "HTTP request sent, awaiting response... 200 OK\n",
            "Length: 4019277 (3.8M) [text/csv]\n",
            "Saving to: ‘Transactional_T10I4D100K.csv’\n",
            "\n",
            "Transactional_T10I4 100%[===================>]   3.83M  1.06MB/s    in 5.3s    \n",
            "\n",
            "2024-07-09 18:34:45 (740 KB/s) - ‘Transactional_T10I4D100K.csv’ saved [4019277/4019277]\n",
            "\n"
          ]
        }
      ]
    },
    {
      "cell_type": "code",
      "source": [
        "from PAMI.multipleMinimumSupportBasedFrequentPattern.basic import CFPGrowth as alg\n",
        "import pandas as pd\n",
        "\n",
        "#Set the input parameters\n",
        "url='https://u-aizu.ac.jp/~udayrage/datasets/transactionalDatabases/Transactional_T10I4D100K.csv'\n",
        "\n",
        "MIS = 'MIS_T10.txt'\n",
        "\n",
        "seperator='\\t'\n",
        "LSList=[2000, 2500, 3000, 3500, 4000]\n",
        "\n",
        "# Initialize a data frame to store the results of CFPGrowth\n",
        "result = pd.DataFrame(columns=['algorithm', 'minSup', 'patterns', 'runtime', 'memory'])\n",
        "\n",
        "# Execute the algorithm at different minSup values\n",
        "\n",
        "\n",
        "for LS in LSList:\n",
        "  from PAMI.extras.calculateMISValues import usingBeta as ub\n",
        "  inputFile = \"Transactional_T10I4D100K.csv\"\n",
        "  beta = 0.8\n",
        "  LS = LS\n",
        "  sep = \"\\t\"\n",
        "  output = \"MIS_T10.txt\"\n",
        "  cd = ub.usingBeta(inputFile, beta, LS, sep)\n",
        "  cd.calculateMIS()\n",
        "  cd.save(output)\n",
        "  obj = alg.CFPGrowth(iFile=url, MIS=MIS, sep=seperator)\n",
        "  obj.Mine()\n",
        "  result.loc[result.shape[0]] = ['CFPGrowth', LS, len(obj.getPatterns()), obj.getRuntime(), obj.getMemoryRSS()]\n",
        "\n",
        "# Print the results\n",
        "print(f\"Frequent patterns were generated successfully using CFPGrowth algorithm\")\n",
        "print(result)"
      ],
      "metadata": {
        "colab": {
          "base_uri": "https://localhost:8080/"
        },
        "id": "tBX90tM9WgdJ",
        "outputId": "3bc5e391-5637-4371-d35e-a481421739bc"
      },
      "execution_count": null,
      "outputs": [
        {
          "output_type": "stream",
          "name": "stdout",
          "text": [
            "870\n",
            "Frequent patterns were generated successfully using basic algorithm\n",
            "870\n",
            "Frequent patterns were generated successfully using basic algorithm\n",
            "870\n",
            "Frequent patterns were generated successfully using basic algorithm\n",
            "870\n",
            "Frequent patterns were generated successfully using basic algorithm\n",
            "870\n",
            "Frequent patterns were generated successfully using basic algorithm\n",
            "Frequent patterns were generated successfully using CFPGrowth algorithm\n",
            "   algorithm  minSup  patterns     runtime     memory\n",
            "0  CFPGrowth    2000       155  128.178871  461774848\n",
            "1  CFPGrowth    2500       107   39.010270  420724736\n",
            "2  CFPGrowth    3000        60   15.887886  396914688\n",
            "3  CFPGrowth    3500        40    8.909235  406204416\n",
            "4  CFPGrowth    4000        26    8.665844  395689984\n"
          ]
        }
      ]
    },
    {
      "cell_type": "markdown",
      "source": [
        "##Test case 2 for T10I4D100K Dataset"
      ],
      "metadata": {
        "id": "iD56o75ZYM8g"
      }
    },
    {
      "cell_type": "code",
      "source": [
        "from PAMI.multipleMinimumSupportBasedFrequentPattern.basic import CFPGrowth as alg\n",
        "import pandas as pd\n",
        "\n",
        "#Set the input parameters\n",
        "inputFile='Transactional_T10I4D100K.csv'\n",
        "\n",
        "MIS = 'MIS_T10.txt'\n",
        "\n",
        "seperator='\\t'\n",
        "LSList=[2000, 2500, 3000, 3500, 4000]\n",
        "\n",
        "# Initialize a data frame to store the results of CFPGrowth\n",
        "result = pd.DataFrame(columns=['algorithm', 'minSup', 'patterns', 'runtime', 'memory'])\n",
        "\n",
        "# Execute the algorithm at different minSup values\n",
        "\n",
        "\n",
        "for LS in LSList:\n",
        "  from PAMI.extras.calculateMISValues import usingBeta as ub\n",
        "  inputFile = \"Transactional_T10I4D100K.csv\"\n",
        "  beta = 0.8\n",
        "  LS = LS\n",
        "  sep = \"\\t\"\n",
        "  output = \"MIS_T10.txt\"\n",
        "  cd = ub.usingBeta(inputFile, beta, LS, sep)\n",
        "  cd.calculateMIS()\n",
        "  cd.save(output)\n",
        "  obj = alg.CFPGrowth(iFile=inputFile, MIS=MIS, sep=seperator)\n",
        "  obj.Mine()\n",
        "  result.loc[result.shape[0]] = ['CFPGrowth', LS, len(obj.getPatterns()), obj.getRuntime(), obj.getMemoryRSS()]\n",
        "\n",
        "# Print the results\n",
        "print(f\"Frequent patterns were generated successfully using CFPGrowth algorithm\")\n",
        "print(result)"
      ],
      "metadata": {
        "colab": {
          "base_uri": "https://localhost:8080/"
        },
        "id": "vYp33_iJYtmQ",
        "outputId": "c10af856-6327-4897-96b0-c1ca53ab52c1"
      },
      "execution_count": null,
      "outputs": [
        {
          "output_type": "stream",
          "name": "stdout",
          "text": [
            "870\n",
            "Frequent patterns were generated successfully using basic algorithm\n",
            "870\n",
            "Frequent patterns were generated successfully using basic algorithm\n",
            "870\n",
            "Frequent patterns were generated successfully using basic algorithm\n",
            "870\n",
            "Frequent patterns were generated successfully using basic algorithm\n",
            "870\n",
            "Frequent patterns were generated successfully using basic algorithm\n",
            "Frequent patterns were generated successfully using CFPGrowth algorithm\n",
            "   algorithm  minSup  patterns     runtime     memory\n",
            "0  CFPGrowth    2000       155  119.632466  460873728\n",
            "1  CFPGrowth    2500       107   33.618884  420122624\n",
            "2  CFPGrowth    3000        60    6.199590  401543168\n",
            "3  CFPGrowth    3500        40    3.047601  407736320\n",
            "4  CFPGrowth    4000        26    2.776972  396382208\n"
          ]
        }
      ]
    },
    {
      "cell_type": "markdown",
      "source": [
        "##Test case 3 for T10I4D100K Dataset"
      ],
      "metadata": {
        "id": "yxQ3mPl0aDW0"
      }
    },
    {
      "cell_type": "code",
      "source": [
        "from PAMI.multipleMinimumSupportBasedFrequentPattern.basic import CFPGrowth as alg\n",
        "import pandas as pd\n",
        "\n",
        "# Set the input parameters\n",
        "inputFile = 'Transactional_T10I4D100K.csv'\n",
        "separator = '\\t'\n",
        "MIS = 'MIS_T10.txt'\n",
        "LSList=[2000, 2500, 3000, 3500, 4000]\n",
        "\n",
        "# Read the CSV file into a DataFrame\n",
        "df = pd.read_csv(inputFile, header=[0], sep=' ')\n",
        "df = df.rename(columns={df.columns[0]: \"Transactions\"})\n",
        "\n",
        "# Ensure all data in the \"Transaction\" column is string before splitting\n",
        "df[\"Transactions\"] = df[\"Transactions\"].astype(str)\n",
        "\n",
        "# Preprocess the dataset\n",
        "# transactions = df[\"Transaction\"].apply(lambda x: x.split(separator)).tolist()\n",
        "transactions = df['Transactions'].apply(lambda x: x.split(separator))\n",
        "transactions = pd.DataFrame(transactions, columns=['Transactions'])\n",
        "\n",
        "# Initialize a data frame to store the results of CFPGrowth\n",
        "result = pd.DataFrame(columns=['algorithm', 'minSup', 'patterns', 'runtime', 'memory'])\n",
        "\n",
        "# Execute the algorithm at different minSup values\n",
        "for LS in LSList:\n",
        "  from PAMI.extras.calculateMISValues import usingBeta as ub\n",
        "  inputFile = \"Transactional_T10I4D100K.csv\"\n",
        "  beta = 0.8\n",
        "  LS = LS\n",
        "  sep = \"\\t\"\n",
        "  output = \"MIS_T10.txt\"\n",
        "  cd = ub.usingBeta(inputFile, beta, LS, sep)\n",
        "  cd.calculateMIS()\n",
        "  cd.save(output)\n",
        "  obj = alg.CFPGrowth(transactions, MIS=MIS, sep=seperator)\n",
        "  obj.Mine()\n",
        "  result.loc[result.shape[0]] = ['CFPGrowth', LS, len(obj.getPatterns()), obj.getRuntime(), obj.getMemoryRSS()]\n",
        "\n",
        "# Print the results\n",
        "print(f\"Frequent patterns were generated successfully using CFPGrowth algorithm\")\n",
        "print(result)\n"
      ],
      "metadata": {
        "colab": {
          "base_uri": "https://localhost:8080/"
        },
        "id": "sPtFLCnRZS2P",
        "outputId": "a7cb631e-8c3e-431a-bf13-5c0c68d62b3a"
      },
      "execution_count": null,
      "outputs": [
        {
          "output_type": "stream",
          "name": "stdout",
          "text": [
            "870\n",
            "Frequent patterns were generated successfully using basic algorithm\n",
            "870\n",
            "Frequent patterns were generated successfully using basic algorithm\n",
            "870\n",
            "Frequent patterns were generated successfully using basic algorithm\n",
            "870\n",
            "Frequent patterns were generated successfully using basic algorithm\n",
            "870\n",
            "Frequent patterns were generated successfully using basic algorithm\n",
            "Frequent patterns were generated successfully using CFPGrowth algorithm\n",
            "   algorithm  minSup  patterns     runtime     memory\n",
            "0  CFPGrowth    2000       155  124.576092  473137152\n",
            "1  CFPGrowth    2500       107   36.317987  448536576\n",
            "2  CFPGrowth    3000        60    5.408913  438214656\n",
            "3  CFPGrowth    3500        40    3.143723  434909184\n",
            "4  CFPGrowth    4000        26    1.673651  428924928\n"
          ]
        }
      ]
    },
    {
      "cell_type": "markdown",
      "source": [
        "# Test Cases Retail Dataset"
      ],
      "metadata": {
        "id": "a-MknH0yaQge"
      }
    },
    {
      "cell_type": "code",
      "source": [
        "!wget https://u-aizu.ac.jp/~udayrage/datasets/transactionalDatabases/Transactional_retail.csv"
      ],
      "metadata": {
        "colab": {
          "base_uri": "https://localhost:8080/"
        },
        "id": "2xRitPpj1-tm",
        "outputId": "85ad1cdb-7a3d-445c-80ab-15d0f6d13b8c"
      },
      "execution_count": null,
      "outputs": [
        {
          "output_type": "stream",
          "name": "stdout",
          "text": [
            "--2024-06-15 17:02:34--  https://u-aizu.ac.jp/~udayrage/datasets/transactionalDatabases/Transactional_retail.csv\n",
            "Resolving u-aizu.ac.jp (u-aizu.ac.jp)... 150.95.161.176, 150.31.244.160\n",
            "Connecting to u-aizu.ac.jp (u-aizu.ac.jp)|150.95.161.176|:443... connected.\n",
            "HTTP request sent, awaiting response... 200 OK\n",
            "Length: 4165546 (4.0M) [text/csv]\n",
            "Saving to: ‘Transactional_retail.csv’\n",
            "\n",
            "Transactional_retai 100%[===================>]   3.97M   852KB/s    in 4.8s    \n",
            "\n",
            "2024-06-15 17:02:40 (852 KB/s) - ‘Transactional_retail.csv’ saved [4165546/4165546]\n",
            "\n"
          ]
        }
      ]
    },
    {
      "cell_type": "code",
      "source": [
        "from PAMI.extras.calculateMISValues import usingBeta as ub\n",
        "inputFile = \"Transactional_retail.csv\"\n",
        "beta = 0.8\n",
        "LS = 2000\n",
        "sep = \"\\t\"\n",
        "output = \"MIS_T11.txt\"\n",
        "cd = ub.usingBeta(inputFile, beta, LS, sep)\n",
        "cd.calculateMIS()\n",
        "cd.save(output)"
      ],
      "metadata": {
        "id": "mdGidRc413b_"
      },
      "execution_count": null,
      "outputs": []
    },
    {
      "cell_type": "markdown",
      "source": [
        "##Test case 1 for Retail Dataset"
      ],
      "metadata": {
        "id": "LHVv3kqHdOvB"
      }
    },
    {
      "cell_type": "code",
      "source": [
        "from PAMI.multipleMinimumSupportBasedFrequentPattern.basic import CFPGrowth as alg\n",
        "import pandas as pd\n",
        "\n",
        "#Set the input parameters\n",
        "url='https://u-aizu.ac.jp/~udayrage/datasets/transactionalDatabases/Transactional_retail.csv'\n",
        "\n",
        "MIS = 'MIS_T11.txt'\n",
        "\n",
        "seperator='\\t'\n",
        "LSList=[2000, 2500, 3000, 3500, 4000]\n",
        "\n",
        "# Initialize a data frame to store the results of CFPGrowth\n",
        "result = pd.DataFrame(columns=['algorithm', 'minSup', 'patterns', 'runtime', 'memory'])\n",
        "\n",
        "# Execute the algorithm at different minSup values\n",
        "\n",
        "\n",
        "for LS in LSList:\n",
        "  from PAMI.extras.calculateMISValues import usingBeta as ub\n",
        "  inputFile = \"Transactional_retail.csv\"\n",
        "  beta = 0.8\n",
        "  LS = LS\n",
        "  sep = \"\\t\"\n",
        "  output = \"MIS_T11.txt\"\n",
        "  cd = ub.usingBeta(inputFile, beta, LS, sep)\n",
        "  cd.calculateMIS()\n",
        "  cd.save(output)\n",
        "  obj = alg.CFPGrowth(iFile=url, MIS=MIS, sep=seperator)\n",
        "  obj.Mine()\n",
        "  result.loc[result.shape[0]] = ['CFPGrowth', LS, len(obj.getPatterns()), obj.getRuntime(), obj.getMemoryRSS()]\n",
        "\n",
        "# Print the results\n",
        "print(f\"Frequent patterns were generated successfully using CFPGrowth algorithm\")\n",
        "print(result)"
      ],
      "metadata": {
        "colab": {
          "base_uri": "https://localhost:8080/"
        },
        "id": "3y3Vyu5TaGyB",
        "outputId": "ba8d7966-2020-4d2b-d903-6d6ea8b11f4d"
      },
      "execution_count": null,
      "outputs": [
        {
          "output_type": "stream",
          "name": "stdout",
          "text": [
            "16469\n",
            "Frequent patterns were generated successfully using basic algorithm\n",
            "16469\n",
            "Frequent patterns were generated successfully using basic algorithm\n",
            "16469\n",
            "Frequent patterns were generated successfully using basic algorithm\n",
            "16469\n",
            "Frequent patterns were generated successfully using basic algorithm\n",
            "16469\n",
            "Frequent patterns were generated successfully using basic algorithm\n",
            "Frequent patterns were generated successfully using CFPGrowth algorithm\n",
            "   algorithm  minSup  patterns    runtime     memory\n",
            "0  CFPGrowth    2000        19  14.783472  431919104\n",
            "1  CFPGrowth    2500        16  15.782721  473210880\n",
            "2  CFPGrowth    3000        11  17.407679  429072384\n",
            "3  CFPGrowth    3500         7  13.516413  429424640\n",
            "4  CFPGrowth    4000         6  13.580944  463724544\n"
          ]
        }
      ]
    },
    {
      "cell_type": "markdown",
      "source": [
        "##Test case 2 for Retail Dataset"
      ],
      "metadata": {
        "id": "sBgF2j1pdYFs"
      }
    },
    {
      "cell_type": "code",
      "source": [
        "from PAMI.multipleMinimumSupportBasedFrequentPattern.basic import CFPGrowth as alg\n",
        "import pandas as pd\n",
        "\n",
        "#Set the input parameters\n",
        "inputFile='Transactional_retail.csv'\n",
        "\n",
        "MIS = 'MIS_T11.txt'\n",
        "\n",
        "seperator='\\t'\n",
        "LSList=[2000, 2500, 3000, 3500, 4000]\n",
        "\n",
        "# Initialize a data frame to store the results of CFPGrowth\n",
        "result = pd.DataFrame(columns=['algorithm', 'minSup', 'patterns', 'runtime', 'memory'])\n",
        "\n",
        "# Execute the algorithm at different minSup values\n",
        "\n",
        "\n",
        "for LS in LSList:\n",
        "  from PAMI.extras.calculateMISValues import usingBeta as ub\n",
        "  inputFile = \"Transactional_retail.csv\"\n",
        "  beta = 0.8\n",
        "  LS = LS\n",
        "  sep = \"\\t\"\n",
        "  output = \"MIS_T11.txt\"\n",
        "  cd = ub.usingBeta(inputFile, beta, LS, sep)\n",
        "  cd.calculateMIS()\n",
        "  cd.save(output)\n",
        "  obj = alg.CFPGrowth(iFile=inputFile, MIS=MIS, sep=seperator)\n",
        "  obj.Mine()\n",
        "  result.loc[result.shape[0]] = ['CFPGrowth', LS, len(obj.getPatterns()), obj.getRuntime(), obj.getMemoryRSS()]\n",
        "\n",
        "# Print the results\n",
        "print(f\"Frequent patterns were generated successfully using CFPGrowth algorithm\")\n",
        "print(result)"
      ],
      "metadata": {
        "colab": {
          "base_uri": "https://localhost:8080/"
        },
        "id": "b7DjVlh4auoH",
        "outputId": "6deff368-9e82-44cd-e7f0-a5211d42c97c"
      },
      "execution_count": null,
      "outputs": [
        {
          "output_type": "stream",
          "name": "stdout",
          "text": [
            "16469\n",
            "Frequent patterns were generated successfully using basic algorithm\n",
            "16469\n",
            "Frequent patterns were generated successfully using basic algorithm\n",
            "16469\n",
            "Frequent patterns were generated successfully using basic algorithm\n",
            "16469\n",
            "Frequent patterns were generated successfully using basic algorithm\n",
            "16469\n",
            "Frequent patterns were generated successfully using basic algorithm\n",
            "Frequent patterns were generated successfully using CFPGrowth algorithm\n",
            "   algorithm  minSup  patterns    runtime     memory\n",
            "0  CFPGrowth    2000        19   7.882900  432533504\n",
            "1  CFPGrowth    2500        16   9.076787  442806272\n",
            "2  CFPGrowth    3000        11  10.222361  436711424\n",
            "3  CFPGrowth    3500         7   8.435819  436658176\n",
            "4  CFPGrowth    4000         6   8.865798  446976000\n"
          ]
        }
      ]
    },
    {
      "cell_type": "markdown",
      "source": [
        "##Test case 3 for Retail Dataset"
      ],
      "metadata": {
        "id": "asPH72UPdbzV"
      }
    },
    {
      "cell_type": "code",
      "source": [
        "from PAMI.multipleMinimumSupportBasedFrequentPattern.basic import CFPGrowth as alg\n",
        "import pandas as pd\n",
        "\n",
        "# Set the input parameters\n",
        "inputFile = 'Transactional_retail.csv'\n",
        "separator = '\\t'\n",
        "MIS = 'MIS_T11.txt'\n",
        "LSList=[2000, 2500, 3000, 3500, 4000]\n",
        "\n",
        "# Read the CSV file into a DataFrame\n",
        "df = pd.read_csv(inputFile, header=[0], sep=' ')\n",
        "df = df.rename(columns={df.columns[0]: \"Transactions\"})\n",
        "\n",
        "# Ensure all data in the \"Transaction\" column is string before splitting\n",
        "df[\"Transactions\"] = df[\"Transactions\"].astype(str)\n",
        "\n",
        "# Preprocess the dataset\n",
        "# transactions = df[\"Transaction\"].apply(lambda x: x.split(separator)).tolist()\n",
        "transactions = df['Transactions'].apply(lambda x: x.split(separator))\n",
        "transactions = pd.DataFrame(transactions, columns=['Transactions'])\n",
        "\n",
        "# Initialize a data frame to store the results of CFPGrowth\n",
        "result = pd.DataFrame(columns=['algorithm', 'minSup', 'patterns', 'runtime', 'memory'])\n",
        "\n",
        "# Execute the algorithm at different minSup values\n",
        "for LS in LSList:\n",
        "  from PAMI.extras.calculateMISValues import usingBeta as ub\n",
        "  inputFile = \"Transactional_retail.csv\"\n",
        "  beta = 0.8\n",
        "  LS = LS\n",
        "  sep = \"\\t\"\n",
        "  output = \"MIS_T11.txt\"\n",
        "  cd = ub.usingBeta(inputFile, beta, LS, sep)\n",
        "  cd.calculateMIS()\n",
        "  cd.save(output)\n",
        "  obj = alg.CFPGrowth(transactions, MIS=MIS, sep=seperator)\n",
        "  obj.Mine()\n",
        "  result.loc[result.shape[0]] = ['CFPGrowth', LS, len(obj.getPatterns()), obj.getRuntime(), obj.getMemoryRSS()]\n",
        "\n",
        "# Print the results\n",
        "print(f\"Frequent patterns were generated successfully using CFPGrowth algorithm\")\n",
        "print(result)\n"
      ],
      "metadata": {
        "colab": {
          "base_uri": "https://localhost:8080/"
        },
        "id": "TX-1anxPbJfG",
        "outputId": "f7591411-0ab0-462a-cca2-182bcca36fb6"
      },
      "execution_count": null,
      "outputs": [
        {
          "output_type": "stream",
          "name": "stdout",
          "text": [
            "16469\n",
            "Frequent patterns were generated successfully using basic algorithm\n",
            "16469\n",
            "Frequent patterns were generated successfully using basic algorithm\n",
            "16469\n",
            "Frequent patterns were generated successfully using basic algorithm\n",
            "16469\n",
            "Frequent patterns were generated successfully using basic algorithm\n",
            "16469\n",
            "Frequent patterns were generated successfully using basic algorithm\n",
            "Frequent patterns were generated successfully using CFPGrowth algorithm\n",
            "   algorithm  minSup  patterns   runtime     memory\n",
            "0  CFPGrowth    2000        19  8.624169  403374080\n",
            "1  CFPGrowth    2500        16  8.098234  400240640\n",
            "2  CFPGrowth    3000        11  6.899478  401051648\n",
            "3  CFPGrowth    3500         7  8.729892  400166912\n",
            "4  CFPGrowth    4000         6  8.434981  400510976\n"
          ]
        }
      ]
    },
    {
      "cell_type": "markdown",
      "source": [
        "# Test Cases for Chess Dataset"
      ],
      "metadata": {
        "id": "4hK7XBAsbbQV"
      }
    },
    {
      "cell_type": "code",
      "source": [
        "!wget https://u-aizu.ac.jp/~udayrage/datasets/transactionalDatabases/Transactional_chess1.csv"
      ],
      "metadata": {
        "colab": {
          "base_uri": "https://localhost:8080/"
        },
        "id": "loPz6GdK3NIJ",
        "outputId": "c0074201-002d-4f2c-e001-1c3cccf075ce"
      },
      "execution_count": null,
      "outputs": [
        {
          "output_type": "stream",
          "name": "stdout",
          "text": [
            "--2024-06-15 17:06:08--  https://u-aizu.ac.jp/~udayrage/datasets/transactionalDatabases/Transactional_chess1.csv\n",
            "Resolving u-aizu.ac.jp (u-aizu.ac.jp)... 150.95.161.176, 150.31.244.160\n",
            "Connecting to u-aizu.ac.jp (u-aizu.ac.jp)|150.95.161.176|:443... connected.\n",
            "HTTP request sent, awaiting response... 200 OK\n",
            "Length: 341866 (334K) [text/csv]\n",
            "Saving to: ‘Transactional_chess1.csv’\n",
            "\n",
            "Transactional_chess 100%[===================>] 333.85K   211KB/s    in 1.6s    \n",
            "\n",
            "2024-06-15 17:06:11 (211 KB/s) - ‘Transactional_chess1.csv’ saved [341866/341866]\n",
            "\n"
          ]
        }
      ]
    },
    {
      "cell_type": "code",
      "source": [
        "from PAMI.extras.calculateMISValues import usingBeta as ub\n",
        "inputFile = \"Transactional_chess1.csv\"\n",
        "beta = 0.8\n",
        "LS = 2000\n",
        "sep = \"\\t\"\n",
        "output = \"MIS_T12.txt\"\n",
        "cd = ub.usingBeta(inputFile, beta, LS, sep)\n",
        "cd.calculateMIS()\n",
        "cd.save(output)"
      ],
      "metadata": {
        "id": "1Nq915rG3M9O"
      },
      "execution_count": null,
      "outputs": []
    },
    {
      "cell_type": "markdown",
      "source": [
        "## Test Case1 for chess Dataset"
      ],
      "metadata": {
        "id": "egnVrUUObd30"
      }
    },
    {
      "cell_type": "code",
      "source": [
        "from PAMI.multipleMinimumSupportBasedFrequentPattern.basic import CFPGrowth as alg\n",
        "import pandas as pd\n",
        "\n",
        "#Set the input parameters\n",
        "url='https://u-aizu.ac.jp/~udayrage/datasets/transactionalDatabases/Transactional_chess1.csv'\n",
        "\n",
        "MIS = 'MIS_T12.txt'\n",
        "\n",
        "seperator='\\t'\n",
        "\n",
        "LSList=[2500, 3000]\n",
        "\n",
        "# Initialize a data frame to store the results of CFPGrowth\n",
        "result = pd.DataFrame(columns=['algorithm', 'minSup', 'patterns', 'runtime', 'memory'])\n",
        "\n",
        "# Execute the algorithm at different minSup values\n",
        "\n",
        "\n",
        "for LS in LSList:\n",
        "  from PAMI.extras.calculateMISValues import usingBeta as ub\n",
        "  inputFile = \"Transactional_chess1.csv\"\n",
        "  beta = 0.8\n",
        "  LS = LS\n",
        "  sep = \"\\t\"\n",
        "  output = \"MIS_T12.txt\"\n",
        "  cd = ub.usingBeta(inputFile, beta, LS, sep)\n",
        "  cd.calculateMIS()\n",
        "  cd.save(output)\n",
        "  obj = alg.CFPGrowth(iFile=url, MIS=MIS, sep=seperator)\n",
        "  obj.Mine()\n",
        "  result.loc[result.shape[0]] = ['CFPGrowth', LS, len(obj.getPatterns()), obj.getRuntime(), obj.getMemoryRSS()]\n",
        "\n",
        "# Print the results\n",
        "print(f\"Frequent patterns were generated successfully using CFPGrowth algorithm\")\n",
        "print(result)"
      ],
      "metadata": {
        "colab": {
          "base_uri": "https://localhost:8080/"
        },
        "id": "O9wBEwB9bWoM",
        "outputId": "46ce6f21-068c-4f6c-fd8d-0c4d47bd3140"
      },
      "execution_count": null,
      "outputs": [
        {
          "output_type": "stream",
          "name": "stdout",
          "text": [
            "16469\n",
            "Frequent patterns were generated successfully using basic algorithm\n",
            "16469\n",
            "Frequent patterns were generated successfully using basic algorithm\n",
            "Frequent patterns were generated successfully using CFPGrowth algorithm\n",
            "   algorithm  minSup  patterns    runtime     memory\n",
            "0  CFPGrowth    2500     11474  30.676965  400510976\n",
            "1  CFPGrowth    3000       152   3.266379  400510976\n"
          ]
        }
      ]
    },
    {
      "cell_type": "markdown",
      "source": [
        "## Test Case2 for chess Dataset"
      ],
      "metadata": {
        "id": "XO1jPjSpbtAk"
      }
    },
    {
      "cell_type": "code",
      "source": [
        "from PAMI.multipleMinimumSupportBasedFrequentPattern.basic import CFPGrowth as alg\n",
        "import pandas as pd\n",
        "\n",
        "#Set the input parameters\n",
        "inputFile='Transactional_chess1.csv'\n",
        "\n",
        "MIS = 'MIS_T12.txt'\n",
        "\n",
        "seperator='\\t'\n",
        "\n",
        "LSList=[2500, 3000]\n",
        "\n",
        "# Initialize a data frame to store the results of CFPGrowth\n",
        "result = pd.DataFrame(columns=['algorithm', 'minSup', 'patterns', 'runtime', 'memory'])\n",
        "\n",
        "# Execute the algorithm at different minSup values\n",
        "\n",
        "\n",
        "for LS in LSList:\n",
        "  from PAMI.extras.calculateMISValues import usingBeta as ub\n",
        "  inputFile = \"Transactional_chess1.csv\"\n",
        "  beta = 0.8\n",
        "  LS = LS\n",
        "  sep = \"\\t\"\n",
        "  output = \"MIS_T12.txt\"\n",
        "  cd = ub.usingBeta(inputFile, beta, LS, sep)\n",
        "  cd.calculateMIS()\n",
        "  cd.save(output)\n",
        "  obj = alg.CFPGrowth(iFile=inputFile, MIS=MIS, sep=seperator)\n",
        "  obj.Mine()\n",
        "  result.loc[result.shape[0]] = ['CFPGrowth', LS, len(obj.getPatterns()), obj.getRuntime(), obj.getMemoryRSS()]\n",
        "\n",
        "# Print the results\n",
        "print(f\"Frequent patterns were generated successfully using CFPGrowth algorithm\")\n",
        "print(result)"
      ],
      "metadata": {
        "colab": {
          "base_uri": "https://localhost:8080/"
        },
        "id": "xngPA6jnbmUy",
        "outputId": "e2d040d1-1aaa-451b-9dc6-684c38887671"
      },
      "execution_count": null,
      "outputs": [
        {
          "output_type": "stream",
          "name": "stdout",
          "text": [
            "16469\n",
            "Frequent patterns were generated successfully using basic algorithm\n",
            "16469\n",
            "Frequent patterns were generated successfully using basic algorithm\n",
            "Frequent patterns were generated successfully using CFPGrowth algorithm\n",
            "   algorithm  minSup  patterns    runtime     memory\n",
            "0  CFPGrowth    2500     11474  26.854128  400510976\n",
            "1  CFPGrowth    3000       152   0.213364  400510976\n"
          ]
        }
      ]
    },
    {
      "cell_type": "markdown",
      "source": [
        "## Test Case3 for chess Dataset"
      ],
      "metadata": {
        "id": "XmsIqeJXchat"
      }
    },
    {
      "cell_type": "code",
      "source": [
        "from PAMI.multipleMinimumSupportBasedFrequentPattern.basic import CFPGrowth as alg\n",
        "import pandas as pd\n",
        "\n",
        "# Set the input parameters\n",
        "inputFile = 'Transactional_chess1.csv'\n",
        "separator = '\\t'\n",
        "MIS = 'MIS_T12.txt'\n",
        "LSList=[2500, 3000]\n",
        "\n",
        "# Read the CSV file into a DataFrame\n",
        "df = pd.read_csv(inputFile, header=[0], sep=' ')\n",
        "df = df.rename(columns={df.columns[0]: \"Transactions\"})\n",
        "\n",
        "# Ensure all data in the \"Transaction\" column is string before splitting\n",
        "df[\"Transactions\"] = df[\"Transactions\"].astype(str)\n",
        "\n",
        "# Preprocess the dataset\n",
        "# transactions = df[\"Transaction\"].apply(lambda x: x.split(separator)).tolist()\n",
        "transactions = df['Transactions'].apply(lambda x: x.split(separator))\n",
        "transactions = pd.DataFrame(transactions, columns=['Transactions'])\n",
        "\n",
        "# Initialize a data frame to store the results of CFPGrowth\n",
        "result = pd.DataFrame(columns=['algorithm', 'minSup', 'patterns', 'runtime', 'memory'])\n",
        "\n",
        "# Execute the algorithm at different minSup values\n",
        "for LS in LSList:\n",
        "  from PAMI.extras.calculateMISValues import usingBeta as ub\n",
        "  inputFile = \"Transactional_chess1.csv\"\n",
        "  beta = 0.8\n",
        "  LS = LS\n",
        "  sep = \"\\t\"\n",
        "  output = \"MIS_T12.txt\"\n",
        "  cd = ub.usingBeta(inputFile, beta, LS, sep)\n",
        "  cd.calculateMIS()\n",
        "  cd.save(output)\n",
        "  obj = alg.CFPGrowth(transactions, MIS=MIS, sep=seperator)\n",
        "  obj.Mine()\n",
        "  result.loc[result.shape[0]] = ['CFPGrowth', LS, len(obj.getPatterns()), obj.getRuntime(), obj.getMemoryRSS()]\n",
        "\n",
        "# Print the results\n",
        "print(f\"Frequent patterns were generated successfully using CFPGrowth algorithm\")\n",
        "print(result)\n"
      ],
      "metadata": {
        "colab": {
          "base_uri": "https://localhost:8080/"
        },
        "id": "Kk7Y5sjScZtN",
        "outputId": "2020c19c-97e7-4a6c-d483-71100458ad79"
      },
      "execution_count": null,
      "outputs": [
        {
          "output_type": "stream",
          "name": "stdout",
          "text": [
            "16469\n",
            "Frequent patterns were generated successfully using basic algorithm\n",
            "16469\n",
            "Frequent patterns were generated successfully using basic algorithm\n",
            "Frequent patterns were generated successfully using CFPGrowth algorithm\n",
            "   algorithm  minSup  patterns    runtime     memory\n",
            "0  CFPGrowth    2500     11401  25.904381  397164544\n",
            "1  CFPGrowth    3000       151   0.201865  397164544\n"
          ]
        }
      ]
    },
    {
      "cell_type": "code",
      "source": [],
      "metadata": {
        "id": "-l1_kr6BczmN"
      },
      "execution_count": null,
      "outputs": []
    }
  ]
}